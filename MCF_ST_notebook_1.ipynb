{
 "cells": [
  {
   "cell_type": "code",
   "execution_count": 26,
   "metadata": {},
   "outputs": [],
   "source": [
    "import pandas as pd\n",
    "import numpy as np\n",
    "import yfinance as yf\n",
    "import matplotlib.pyplot as plt\n",
    "import Funciones_MCF as MCF\n",
    "from scipy.stats import kurtosis, skew ,norm"
   ]
  },
  {
   "cell_type": "code",
   "execution_count": 27,
   "metadata": {},
   "outputs": [
    {
     "name": "stderr",
     "output_type": "stream",
     "text": [
      "[*********************100%***********************]  4 of 4 completed\n"
     ]
    },
    {
     "data": {
      "text/html": [
       "<div>\n",
       "<style scoped>\n",
       "    .dataframe tbody tr th:only-of-type {\n",
       "        vertical-align: middle;\n",
       "    }\n",
       "\n",
       "    .dataframe tbody tr th {\n",
       "        vertical-align: top;\n",
       "    }\n",
       "\n",
       "    .dataframe thead th {\n",
       "        text-align: right;\n",
       "    }\n",
       "</style>\n",
       "<table border=\"1\" class=\"dataframe\">\n",
       "  <thead>\n",
       "    <tr style=\"text-align: right;\">\n",
       "      <th>Ticker</th>\n",
       "      <th>AAPL</th>\n",
       "      <th>MSFT</th>\n",
       "      <th>NVDA</th>\n",
       "      <th>TSLA</th>\n",
       "    </tr>\n",
       "    <tr>\n",
       "      <th>Date</th>\n",
       "      <th></th>\n",
       "      <th></th>\n",
       "      <th></th>\n",
       "      <th></th>\n",
       "    </tr>\n",
       "  </thead>\n",
       "  <tbody>\n",
       "    <tr>\n",
       "      <th>2024-03-21</th>\n",
       "      <td>170.564606</td>\n",
       "      <td>426.116760</td>\n",
       "      <td>91.404961</td>\n",
       "      <td>172.820007</td>\n",
       "    </tr>\n",
       "    <tr>\n",
       "      <th>2024-03-22</th>\n",
       "      <td>171.470352</td>\n",
       "      <td>425.491547</td>\n",
       "      <td>94.258026</td>\n",
       "      <td>170.830002</td>\n",
       "    </tr>\n",
       "    <tr>\n",
       "      <th>2024-03-25</th>\n",
       "      <td>170.047073</td>\n",
       "      <td>419.656067</td>\n",
       "      <td>94.970787</td>\n",
       "      <td>172.630005</td>\n",
       "    </tr>\n",
       "    <tr>\n",
       "      <th>2024-03-26</th>\n",
       "      <td>168.912430</td>\n",
       "      <td>418.455231</td>\n",
       "      <td>92.530594</td>\n",
       "      <td>177.669998</td>\n",
       "    </tr>\n",
       "    <tr>\n",
       "      <th>2024-03-27</th>\n",
       "      <td>172.495499</td>\n",
       "      <td>418.236908</td>\n",
       "      <td>90.220345</td>\n",
       "      <td>179.830002</td>\n",
       "    </tr>\n",
       "    <tr>\n",
       "      <th>...</th>\n",
       "      <td>...</td>\n",
       "      <td>...</td>\n",
       "      <td>...</td>\n",
       "      <td>...</td>\n",
       "    </tr>\n",
       "    <tr>\n",
       "      <th>2025-03-14</th>\n",
       "      <td>213.490005</td>\n",
       "      <td>388.559998</td>\n",
       "      <td>121.669998</td>\n",
       "      <td>249.979996</td>\n",
       "    </tr>\n",
       "    <tr>\n",
       "      <th>2025-03-17</th>\n",
       "      <td>214.000000</td>\n",
       "      <td>388.700012</td>\n",
       "      <td>119.529999</td>\n",
       "      <td>238.009995</td>\n",
       "    </tr>\n",
       "    <tr>\n",
       "      <th>2025-03-18</th>\n",
       "      <td>212.690002</td>\n",
       "      <td>383.519989</td>\n",
       "      <td>115.430000</td>\n",
       "      <td>225.309998</td>\n",
       "    </tr>\n",
       "    <tr>\n",
       "      <th>2025-03-19</th>\n",
       "      <td>215.240005</td>\n",
       "      <td>387.820007</td>\n",
       "      <td>117.519997</td>\n",
       "      <td>235.860001</td>\n",
       "    </tr>\n",
       "    <tr>\n",
       "      <th>2025-03-20</th>\n",
       "      <td>214.100006</td>\n",
       "      <td>386.839996</td>\n",
       "      <td>118.529999</td>\n",
       "      <td>236.259995</td>\n",
       "    </tr>\n",
       "  </tbody>\n",
       "</table>\n",
       "<p>250 rows × 4 columns</p>\n",
       "</div>"
      ],
      "text/plain": [
       "Ticker            AAPL        MSFT        NVDA        TSLA\n",
       "Date                                                      \n",
       "2024-03-21  170.564606  426.116760   91.404961  172.820007\n",
       "2024-03-22  171.470352  425.491547   94.258026  170.830002\n",
       "2024-03-25  170.047073  419.656067   94.970787  172.630005\n",
       "2024-03-26  168.912430  418.455231   92.530594  177.669998\n",
       "2024-03-27  172.495499  418.236908   90.220345  179.830002\n",
       "...                ...         ...         ...         ...\n",
       "2025-03-14  213.490005  388.559998  121.669998  249.979996\n",
       "2025-03-17  214.000000  388.700012  119.529999  238.009995\n",
       "2025-03-18  212.690002  383.519989  115.430000  225.309998\n",
       "2025-03-19  215.240005  387.820007  117.519997  235.860001\n",
       "2025-03-20  214.100006  386.839996  118.529999  236.259995\n",
       "\n",
       "[250 rows x 4 columns]"
      ]
     },
     "execution_count": 27,
     "metadata": {},
     "output_type": "execute_result"
    }
   ],
   "source": [
    "M7 = ['AAPL','MSFT','NVDA','TSLA']\n",
    "\n",
    "\n",
    "df_precios = MCF.obtener_datos(M7)\n",
    "df_precios"
   ]
  },
  {
   "cell_type": "code",
   "execution_count": 28,
   "metadata": {},
   "outputs": [
    {
     "data": {
      "text/html": [
       "<div>\n",
       "<style scoped>\n",
       "    .dataframe tbody tr th:only-of-type {\n",
       "        vertical-align: middle;\n",
       "    }\n",
       "\n",
       "    .dataframe tbody tr th {\n",
       "        vertical-align: top;\n",
       "    }\n",
       "\n",
       "    .dataframe thead th {\n",
       "        text-align: right;\n",
       "    }\n",
       "</style>\n",
       "<table border=\"1\" class=\"dataframe\">\n",
       "  <thead>\n",
       "    <tr style=\"text-align: right;\">\n",
       "      <th>Ticker</th>\n",
       "      <th>AAPL</th>\n",
       "      <th>MSFT</th>\n",
       "      <th>NVDA</th>\n",
       "      <th>TSLA</th>\n",
       "    </tr>\n",
       "    <tr>\n",
       "      <th>Date</th>\n",
       "      <th></th>\n",
       "      <th></th>\n",
       "      <th></th>\n",
       "      <th></th>\n",
       "    </tr>\n",
       "  </thead>\n",
       "  <tbody>\n",
       "    <tr>\n",
       "      <th>2024-03-22</th>\n",
       "      <td>0.005310</td>\n",
       "      <td>-0.001467</td>\n",
       "      <td>0.031213</td>\n",
       "      <td>-0.011515</td>\n",
       "    </tr>\n",
       "    <tr>\n",
       "      <th>2024-03-25</th>\n",
       "      <td>-0.008300</td>\n",
       "      <td>-0.013715</td>\n",
       "      <td>0.007562</td>\n",
       "      <td>0.010537</td>\n",
       "    </tr>\n",
       "    <tr>\n",
       "      <th>2024-03-26</th>\n",
       "      <td>-0.006673</td>\n",
       "      <td>-0.002861</td>\n",
       "      <td>-0.025694</td>\n",
       "      <td>0.029195</td>\n",
       "    </tr>\n",
       "    <tr>\n",
       "      <th>2024-03-27</th>\n",
       "      <td>0.021213</td>\n",
       "      <td>-0.000522</td>\n",
       "      <td>-0.024967</td>\n",
       "      <td>0.012157</td>\n",
       "    </tr>\n",
       "    <tr>\n",
       "      <th>2024-03-28</th>\n",
       "      <td>-0.010559</td>\n",
       "      <td>-0.001685</td>\n",
       "      <td>0.001175</td>\n",
       "      <td>-0.022466</td>\n",
       "    </tr>\n",
       "    <tr>\n",
       "      <th>...</th>\n",
       "      <td>...</td>\n",
       "      <td>...</td>\n",
       "      <td>...</td>\n",
       "      <td>...</td>\n",
       "    </tr>\n",
       "    <tr>\n",
       "      <th>2025-03-14</th>\n",
       "      <td>0.018171</td>\n",
       "      <td>0.025847</td>\n",
       "      <td>0.052691</td>\n",
       "      <td>0.038641</td>\n",
       "    </tr>\n",
       "    <tr>\n",
       "      <th>2025-03-17</th>\n",
       "      <td>0.002389</td>\n",
       "      <td>0.000360</td>\n",
       "      <td>-0.017589</td>\n",
       "      <td>-0.047884</td>\n",
       "    </tr>\n",
       "    <tr>\n",
       "      <th>2025-03-18</th>\n",
       "      <td>-0.006121</td>\n",
       "      <td>-0.013327</td>\n",
       "      <td>-0.034301</td>\n",
       "      <td>-0.053359</td>\n",
       "    </tr>\n",
       "    <tr>\n",
       "      <th>2025-03-19</th>\n",
       "      <td>0.011989</td>\n",
       "      <td>0.011212</td>\n",
       "      <td>0.018106</td>\n",
       "      <td>0.046824</td>\n",
       "    </tr>\n",
       "    <tr>\n",
       "      <th>2025-03-20</th>\n",
       "      <td>-0.005296</td>\n",
       "      <td>-0.002527</td>\n",
       "      <td>0.008594</td>\n",
       "      <td>0.001696</td>\n",
       "    </tr>\n",
       "  </tbody>\n",
       "</table>\n",
       "<p>249 rows × 4 columns</p>\n",
       "</div>"
      ],
      "text/plain": [
       "Ticker          AAPL      MSFT      NVDA      TSLA\n",
       "Date                                              \n",
       "2024-03-22  0.005310 -0.001467  0.031213 -0.011515\n",
       "2024-03-25 -0.008300 -0.013715  0.007562  0.010537\n",
       "2024-03-26 -0.006673 -0.002861 -0.025694  0.029195\n",
       "2024-03-27  0.021213 -0.000522 -0.024967  0.012157\n",
       "2024-03-28 -0.010559 -0.001685  0.001175 -0.022466\n",
       "...              ...       ...       ...       ...\n",
       "2025-03-14  0.018171  0.025847  0.052691  0.038641\n",
       "2025-03-17  0.002389  0.000360 -0.017589 -0.047884\n",
       "2025-03-18 -0.006121 -0.013327 -0.034301 -0.053359\n",
       "2025-03-19  0.011989  0.011212  0.018106  0.046824\n",
       "2025-03-20 -0.005296 -0.002527  0.008594  0.001696\n",
       "\n",
       "[249 rows x 4 columns]"
      ]
     },
     "execution_count": 28,
     "metadata": {},
     "output_type": "execute_result"
    }
   ],
   "source": [
    "df_rendimientos = MCF.calcular_rendimientos(df_precios)\n",
    "df_rendimientos"
   ]
  },
  {
   "cell_type": "code",
   "execution_count": 29,
   "metadata": {},
   "outputs": [
    {
     "data": {
      "text/plain": [
       "0.0010317944070705836"
      ]
     },
     "execution_count": 29,
     "metadata": {},
     "output_type": "execute_result"
    }
   ],
   "source": [
    "promedio_rendi_diario = df_rendimientos['AAPL'].mean()\n",
    "promedio_rendi_diario\n"
   ]
  },
  {
   "cell_type": "code",
   "execution_count": 30,
   "metadata": {},
   "outputs": [
    {
     "data": {
      "text/plain": [
       "2.6676033193745576"
      ]
     },
     "execution_count": 30,
     "metadata": {},
     "output_type": "execute_result"
    }
   ],
   "source": [
    "kurtosis = kurtosis(df_rendimientos['AAPL'])\n",
    "skew = skew(df_rendimientos['AAPL'])\n",
    "kurtosis"
   ]
  },
  {
   "cell_type": "markdown",
   "metadata": {},
   "source": [
    "# Cálculo de VaR y CVaR asumiendo normalidad"
   ]
  },
  {
   "cell_type": "markdown",
   "metadata": {},
   "source": [
    "## VaR Paramétrico"
   ]
  },
  {
   "cell_type": "markdown",
   "metadata": {},
   "source": [
    "Para este VaR asumimos que nuestra muestra tiene una distribución normal.\n",
    "\n",
    "1. Calcular la Media y la Desviación Estándar:\n",
    "\n",
    "    mean = np.mean(returns): Calcula el retorno diario promedio de la serie. Esto representa el retorno esperado.\n",
    "\n",
    "    stdev = np.std(returns): Calcula la desviación estándar de los retornos, que mide la volatilidad o el riesgo de los retornos.\n",
    "\n",
    "\n",
    "2. Calcular el VaR:\n",
    "\n",
    "    VaR_95 = norm.ppf(1-0.95, mean, stdev): Esta línea calcula el VaR al 95% usando el inverso de la función de distribución acumulativa (CDF) de la distribución normal (norm.ppf). El primer argumento 1-0.95 representa el nivel de confianza (5% en este caso, que es 1 - 95%). Los segundo y tercer argumentos son la media y la desviación estándar de los retornos, respectivamente. Esta función devuelve el valor en el cual termina el extremo izquierdo de la distribución normal, representando el umbral de pérdida que no se superará con un 95% de confianza en un período especificado (en este caso, presumiblemente un día, dado los datos de retornos diarios)."
   ]
  },
  {
   "cell_type": "code",
   "execution_count": 31,
   "metadata": {},
   "outputs": [
    {
     "name": "stdout",
     "output_type": "stream",
     "text": [
      "95% VaR of AAPL: -2.4312\n"
     ]
    }
   ],
   "source": [
    "mean = np.mean(df_rendimientos['AAPL'])\n",
    "stdev = np.std(df_rendimientos['AAPL'])\n",
    "\n",
    "VaR_95=norm.ppf(1-0.95,mean,stdev)\n",
    "\n",
    "print(\"95% VaR of AAPL:\", round(VaR_95*100,4))"
   ]
  },
  {
   "cell_type": "markdown",
   "metadata": {},
   "source": [
    "## VaR Histórico"
   ]
  },
  {
   "cell_type": "markdown",
   "metadata": {},
   "source": [
    "Calcular el VaR Histórico:\n",
    "\n",
    "hVaR_95 = returns.quantile(0.05): Esta línea calcula el percentil 5% (quantile 0.05) de la distribución de retornos históricos. En el contexto del VaR, esto significa que se busca el valor de retorno tal que el 5% de los retornos históricos sean iguales o menores a ese valor. Al trabajar con un nivel de confianza del 95%, se está interesado en el límite inferior del 5% de los resultados más negativos, ya que el VaR se enfoca en pérdidas potenciales."
   ]
  },
  {
   "cell_type": "code",
   "execution_count": 32,
   "metadata": {},
   "outputs": [
    {
     "name": "stdout",
     "output_type": "stream",
     "text": [
      "95% VaR of AAPL: -2.586\n"
     ]
    }
   ],
   "source": [
    "# Historical VaR\n",
    "hVaR_95 = df_rendimientos['AAPL'].quantile(0.05)\n",
    "\n",
    "print(\"95% VaR of AAPL:\", round(hVaR_95*100,4))"
   ]
  },
  {
   "cell_type": "markdown",
   "metadata": {},
   "source": [
    "## VaR Monte Carlo"
   ]
  },
  {
   "cell_type": "markdown",
   "metadata": {},
   "source": [
    "1. Número de Simulaciones:\n",
    "\n",
    "    n_sims = 100000: Se define la cantidad de simulaciones a realizar. En este caso, se generarán 100,000 series de retornos simulados. Cuantas más simulaciones se realicen, más precisa será la estimación del VaR, aunque también requerirá más tiempo de cálculo.\n",
    "\n",
    "2. Simular Retornos y Ordenar:\n",
    "\n",
    "    sim_returns = np.random.normal(mean, stdev, n_sims): Se simulan los retornos utilizando una distribución normal, donde mean y stdev son la media y la desviación estándar de los retornos históricos, respectivamente. Esto genera una serie de retornos simulados basados en la suposición de que los retornos siguen una distribución normal.\n",
    "\n",
    "3. Calcular el VaR de Monte Carlo:\n",
    "\n",
    "    MCVaR_95 = np.percentile(sim_returns, 5): Se calcula el percentil 5 de los retornos simulados, lo que representa el VaR al 95%. Esto significa que se espera que el 5% de los peores retornos sean iguales o peores que este valor. Dicho de otra forma, hay un 95% de confianza de que las pérdidas no superarán este valor de VaR."
   ]
  },
  {
   "cell_type": "code",
   "execution_count": 33,
   "metadata": {},
   "outputs": [
    {
     "name": "stdout",
     "output_type": "stream",
     "text": [
      "95% VaR of AAPL: -2.4434\n"
     ]
    }
   ],
   "source": [
    "# Monte Carlo\n",
    "\n",
    "# Number of simulations\n",
    "n_sims = 100000\n",
    "\n",
    "# Simulate returns and sort\n",
    "sim_returns = np.random.normal(mean, stdev, n_sims)\n",
    "\n",
    "MCVaR_95 = np.percentile(sim_returns, 5)\n",
    "\n",
    "print(\"95% VaR of AAPL:\", round(MCVaR_95*100,4))"
   ]
  },
  {
   "cell_type": "markdown",
   "metadata": {},
   "source": [
    "## CVaR o ES"
   ]
  },
  {
   "cell_type": "markdown",
   "metadata": {},
   "source": [
    "Calcular el CVaR al 95%:\n",
    "\n",
    "CVaR_95=returns[returns<=hVaR_95].mean(): Este código calcula el CVaR como el promedio de todos los retornos que son iguales o menores que el VaR histórico al 95% (hVaR_95). En otras palabras, primero se filtran los retornos para quedarse solo con aquellos que están en el peor 5% (los retornos que son peores que el VaR) y luego se calcula la media de estos retornos. El resultado es el CVaR al 95%, que representa el promedio de las pérdidas esperadas en el peor 5% de los escenarios."
   ]
  },
  {
   "cell_type": "code",
   "execution_count": 34,
   "metadata": {},
   "outputs": [
    {
     "name": "stdout",
     "output_type": "stream",
     "text": [
      "95% CVaR of AAPL: -3.3216\n"
     ]
    }
   ],
   "source": [
    "# CVaR o ES o AVaR\n",
    "\n",
    "CVaR_95 = df_rendimientos['AAPL'][df_rendimientos['AAPL'] <= hVaR_95].mean()\n",
    "\n",
    "print(\"95% CVaR of AAPL:\", round(CVaR_95*100,4))"
   ]
  },
  {
   "cell_type": "markdown",
   "metadata": {},
   "source": [
    "Vamos a mostrar todos estos estimados:"
   ]
  },
  {
   "cell_type": "code",
   "execution_count": 35,
   "metadata": {},
   "outputs": [
    {
     "data": {
      "image/png": "[encoded data removed]",
      "text/plain": [
       "<Figure size 1000x600 with 1 Axes>"
      ]
     },
     "metadata": {},
     "output_type": "display_data"
    }
   ],
   "source": [
    "# First, generate the histogram of returns\n",
    "plt.figure(figsize=(10, 6))\n",
    "n, bins, patches = plt.hist(df_rendimientos['AAPL'], bins=50, color='blue', alpha=0.7, label='Returns')\n",
    "\n",
    "# Identify bins to the left of hVaR_95 and color them differently\n",
    "for bin_left, bin_right, patch in zip(bins, bins[1:], patches):\n",
    "    if bin_left < hVaR_95:\n",
    "        patch.set_facecolor('red')\n",
    "\n",
    "# Mark the different VaR and CVaR values on the histogram\n",
    "plt.axvline(x=VaR_95, color='skyblue', linestyle='--', label='VaR 95% (Parametric)')\n",
    "plt.axvline(x=MCVaR_95, color='grey', linestyle='--', label='VaR 95% (Monte Carlo)')\n",
    "plt.axvline(x=hVaR_95, color='green', linestyle='--', label='VaR 95% (Historical)')\n",
    "plt.axvline(x=CVaR_95, color='purple', linestyle='-.', label='CVaR 95%')\n",
    "\n",
    "# Add a legend and labels to make the chart more informative\n",
    "plt.title('Histogram of Returns with VaR and CVaR')\n",
    "plt.xlabel('Returns')\n",
    "plt.ylabel('Frequency')\n",
    "plt.legend()\n",
    "\n",
    "# Display the chart\n",
    "plt.show()"
   ]
  },
  {
   "cell_type": "markdown",
   "metadata": {},
   "source": [
    "Nuestros resultados:"
   ]
  },
  {
   "cell_type": "code",
   "execution_count": 36,
   "metadata": {},
   "outputs": [
    {
     "data": {
      "text/html": [
       "<div>\n",
       "<style scoped>\n",
       "    .dataframe tbody tr th:only-of-type {\n",
       "        vertical-align: middle;\n",
       "    }\n",
       "\n",
       "    .dataframe tbody tr th {\n",
       "        vertical-align: top;\n",
       "    }\n",
       "\n",
       "    .dataframe thead th {\n",
       "        text-align: right;\n",
       "    }\n",
       "</style>\n",
       "<table border=\"1\" class=\"dataframe\">\n",
       "  <thead>\n",
       "    <tr style=\"text-align: right;\">\n",
       "      <th></th>\n",
       "      <th>VaR (Normal)</th>\n",
       "      <th>VaR (Historical)</th>\n",
       "      <th>VaR (Monte Carlo)</th>\n",
       "      <th>CVaR</th>\n",
       "    </tr>\n",
       "  </thead>\n",
       "  <tbody>\n",
       "    <tr>\n",
       "      <th>95% Confidence</th>\n",
       "      <td>-2.431161</td>\n",
       "      <td>-2.585992</td>\n",
       "      <td>-2.443367</td>\n",
       "      <td>-3.321569</td>\n",
       "    </tr>\n",
       "  </tbody>\n",
       "</table>\n",
       "</div>"
      ],
      "text/plain": [
       "                VaR (Normal)  VaR (Historical)  VaR (Monte Carlo)      CVaR\n",
       "95% Confidence     -2.431161         -2.585992          -2.443367 -3.321569"
      ]
     },
     "execution_count": 36,
     "metadata": {},
     "output_type": "execute_result"
    }
   ],
   "source": [
    "# Create a DataFrame with various VaR and CVaR calculations\n",
    "out = pd.DataFrame({'VaR (Normal)': [VaR_95 * 100],\n",
    "                    'VaR (Historical)': [hVaR_95 * 100],\n",
    "                    'VaR (Monte Carlo)': [MCVaR_95 * 100],\n",
    "                    'CVaR': [CVaR_95 * 100]},\n",
    "                   index=['95% Confidence'])\n",
    "\n",
    "# Display the DataFrame\n",
    "out"
   ]
  },
  {
   "cell_type": "markdown",
   "metadata": {},
   "source": [
    "# Introducción al Método Rolling Windows"
   ]
  },
  {
   "cell_type": "markdown",
   "metadata": {},
   "source": [
    "Recordando lo que se comentó en los códigos anteriores, al trabajar con métricas como VaR o CVar hay que tener muy en claro el periodo específico que representan las muestras con las que las componemos. En este caso, bastaron los últimos 365 precios de cierre para calibrar las métricas válidas para el día de hoy.\n",
    "\n",
    "La idea del método rolling windows es la siguiente:\n",
    "\n",
    "Así como usamos los últimos 365 precios de cierre para el cálculo del VaR al día de hoy, si quisiéramos usar la misma metodología para el VaR del día de ayer, basta con recorrernos 1 lugar a la izquierda, es decir, recorrer nuestra ventana de visualización de la muestra un lugar (de ahí el nombre rolling windows). Si quisiéramos el VaR con esta metodología de la semana pasada, basta con recorrer 7 lugares, y así sucesivamente.\n",
    "\n",
    "Este método es útil para poder comparar métricas de riesgo en ventanas de tiempo distintas, para saber si hubo un incremento en estas o un decremento que pueda ser explicado por outliers, un aumento de volatilidad, o incluso aumento en la media de los retornos, los cuales pueden ser explicados por argumentos macro o micro en el mercado.\n",
    "\n",
    "Carguemos de nuevo nuestros retornos históricos desde 2008, esta vez sin tomar los últimos 365 datos:"
   ]
  },
  {
   "cell_type": "code",
   "execution_count": 45,
   "metadata": {},
   "outputs": [
    {
     "name": "stderr",
     "output_type": "stream",
     "text": [
      "[*********************100%***********************]  1 of 1 completed\n"
     ]
    },
    {
     "data": {
      "text/html": [
       "<div>\n",
       "<style scoped>\n",
       "    .dataframe tbody tr th:only-of-type {\n",
       "        vertical-align: middle;\n",
       "    }\n",
       "\n",
       "    .dataframe tbody tr th {\n",
       "        vertical-align: top;\n",
       "    }\n",
       "\n",
       "    .dataframe thead th {\n",
       "        text-align: right;\n",
       "    }\n",
       "</style>\n",
       "<table border=\"1\" class=\"dataframe\">\n",
       "  <thead>\n",
       "    <tr style=\"text-align: right;\">\n",
       "      <th>Ticker</th>\n",
       "      <th>AAPL</th>\n",
       "    </tr>\n",
       "    <tr>\n",
       "      <th>Date</th>\n",
       "      <th></th>\n",
       "    </tr>\n",
       "  </thead>\n",
       "  <tbody>\n",
       "    <tr>\n",
       "      <th>2008-01-03</th>\n",
       "      <td>0.000462</td>\n",
       "    </tr>\n",
       "    <tr>\n",
       "      <th>2008-01-04</th>\n",
       "      <td>-0.076335</td>\n",
       "    </tr>\n",
       "    <tr>\n",
       "      <th>2008-01-07</th>\n",
       "      <td>-0.013386</td>\n",
       "    </tr>\n",
       "    <tr>\n",
       "      <th>2008-01-08</th>\n",
       "      <td>-0.035972</td>\n",
       "    </tr>\n",
       "    <tr>\n",
       "      <th>2008-01-09</th>\n",
       "      <td>0.047591</td>\n",
       "    </tr>\n",
       "    <tr>\n",
       "      <th>...</th>\n",
       "      <td>...</td>\n",
       "    </tr>\n",
       "    <tr>\n",
       "      <th>2025-03-14</th>\n",
       "      <td>0.018171</td>\n",
       "    </tr>\n",
       "    <tr>\n",
       "      <th>2025-03-17</th>\n",
       "      <td>0.002389</td>\n",
       "    </tr>\n",
       "    <tr>\n",
       "      <th>2025-03-18</th>\n",
       "      <td>-0.006121</td>\n",
       "    </tr>\n",
       "    <tr>\n",
       "      <th>2025-03-19</th>\n",
       "      <td>0.011989</td>\n",
       "    </tr>\n",
       "    <tr>\n",
       "      <th>2025-03-20</th>\n",
       "      <td>-0.005296</td>\n",
       "    </tr>\n",
       "  </tbody>\n",
       "</table>\n",
       "<p>4331 rows × 1 columns</p>\n",
       "</div>"
      ],
      "text/plain": [
       "Ticker          AAPL\n",
       "Date                \n",
       "2008-01-03  0.000462\n",
       "2008-01-04 -0.076335\n",
       "2008-01-07 -0.013386\n",
       "2008-01-08 -0.035972\n",
       "2008-01-09  0.047591\n",
       "...              ...\n",
       "2025-03-14  0.018171\n",
       "2025-03-17  0.002389\n",
       "2025-03-18 -0.006121\n",
       "2025-03-19  0.011989\n",
       "2025-03-20 -0.005296\n",
       "\n",
       "[4331 rows x 1 columns]"
      ]
     },
     "execution_count": 45,
     "metadata": {},
     "output_type": "execute_result"
    }
   ],
   "source": [
    "df = yf.download('AAPL', start='2008-01-01')['Close']\n",
    "returns = df.pct_change().dropna()\n",
    "returns"
   ]
  },
  {
   "cell_type": "markdown",
   "metadata": {},
   "source": [
    "Ahora haremos el mismo ejercicio de calcular el VaR paramétrico pero haciendo rolling windows de 365 días.\n",
    "\n",
    "Para esto usaremos la función rolling() de pandas, donde le indicamos window=365 como argumento para iterar la ventana sobre nuestro dataframe."
   ]
  },
  {
   "cell_type": "code",
   "execution_count": 47,
   "metadata": {},
   "outputs": [
    {
     "name": "stdout",
     "output_type": "stream",
     "text": [
      "            95% VaR Rolling\n",
      "Date                       \n",
      "2025-03-14          -2.2906\n",
      "2025-03-17          -2.2908\n",
      "2025-03-18          -2.2941\n",
      "2025-03-19          -2.2896\n",
      "2025-03-20          -2.2929\n"
     ]
    }
   ],
   "source": [
    "# Calculate the rolling mean and standard deviation over a 365-day window.\n",
    "# These rolling calculations provide an evolving measure of the mean and volatility of returns,\n",
    "# which are essential for assessing the risk (VaR) dynamically over time.\n",
    "rolling_mean = returns.rolling(window=365).mean()\n",
    "rolling_std = returns.rolling(window=365).std()\n",
    "\n",
    "# Calculate the 95% VaR for each point in time using the rolling mean and standard deviation.\n",
    "# The 'norm.ppf' function from scipy.stats is used to calculate the inverse of the cumulative\n",
    "# distribution function of a normal distribution, which gives us the VaR value.\n",
    "# The first argument (1-0.95) represents the left tail probability (5%),\n",
    "# and the mean and standard deviation from the rolling calculations are passed as the next arguments.\n",
    "VaR_95_rolling = norm.ppf(1-0.95, rolling_mean, rolling_std)\n",
    "\n",
    "# Multiply by 100 to convert to percentages and round to 4 decimal places.\n",
    "# This step formats the VaR values into a more readable percentage form,\n",
    "# making it easier to interpret the potential loss.\n",
    "VaR_95_rolling_percent = (VaR_95_rolling * 100).round(4)\n",
    "\n",
    "# Optionally, create a DataFrame to visualize the dates and the calculated VaR values.\n",
    "# This DataFrame associates each date with its corresponding VaR, providing a clear\n",
    "# historical view of how the assessed risk has changed over time.\n",
    "vaR_rolling_df = pd.DataFrame({'Date': returns.index, '95% VaR Rolling': VaR_95_rolling_percent.squeeze()})\n",
    "vaR_rolling_df.set_index('Date', inplace=True)\n",
    "\n",
    "# Print the last few calculated values as a sample.\n",
    "# This shows the most recent values of the rolling VaR calculation,\n",
    "# giving an idea of the current risk assessment based on the latest data.\n",
    "print(vaR_rolling_df.tail())"
   ]
  },
  {
   "cell_type": "markdown",
   "metadata": {},
   "source": [
    "Ahora vamos a graficar este VaR paramétrico en el tiempo vs los retornos diarios."
   ]
  },
  {
   "cell_type": "code",
   "execution_count": 48,
   "metadata": {},
   "outputs": [
    {
     "data": {
      "image/png": "[encoded data removed]",
      "text/plain": [
       "<Figure size 1400x700 with 1 Axes>"
      ]
     },
     "metadata": {},
     "output_type": "display_data"
    }
   ],
   "source": [
    "plt.figure(figsize=(14, 7))\n",
    "\n",
    "# Plot daily returns\n",
    "# Assuming returns are expressed as fractions, multiply by 100 to convert to percentage\n",
    "plt.plot(returns.index, returns * 100, label='Daily Returns (%)', color='blue', alpha=0.5)\n",
    "\n",
    "# Plot the 95% Rolling VaR\n",
    "plt.plot(vaR_rolling_df.index, vaR_rolling_df['95% VaR Rolling'], label='95% Rolling VaR', color='red')\n",
    "\n",
    "# Add a title and axis labels\n",
    "plt.title('Daily Returns and 95% Rolling VaR')\n",
    "plt.xlabel('Date')\n",
    "plt.ylabel('Values (%)')\n",
    "\n",
    "# Add a legend\n",
    "plt.legend()\n",
    "\n",
    "# Show the plot\n",
    "plt.tight_layout()\n",
    "plt.show()"
   ]
  },
  {
   "cell_type": "code",
   "execution_count": null,
   "metadata": {},
   "outputs": [],
   "source": []
  }
 ],
 "metadata": {
  "kernelspec": {
   "display_name": "workShop",
   "language": "python",
   "name": "python3"
  },
  "language_info": {
   "codemirror_mode": {
    "name": "ipython",
    "version": 3
   },
   "file_extension": ".py",
   "mimetype": "text/x-python",
   "name": "python",
   "nbconvert_exporter": "python",
   "pygments_lexer": "ipython3",
   "version": "3.11.4"
  }
 },
 "nbformat": 4,
 "nbformat_minor": 2
}
